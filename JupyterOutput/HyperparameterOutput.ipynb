{
 "cells": [
  {
   "cell_type": "code",
   "execution_count": 79,
   "metadata": {
    "scrolled": true
   },
   "outputs": [],
   "source": [
    "import csv\n",
    "import math\n",
    "import os\n",
    "import pickle\n",
    "import scipy\n",
    "import shutil\n",
    "import time\n",
    "import zipfile\n",
    "\n",
    "import numpy  as np\n",
    "import pandas as pd\n",
    "import tensorflow as tf\n",
    "\n",
    "\n",
    "from collections import deque\n",
    "from keras.applications.resnet50 import ResNet50, preprocess_input\n",
    "from keras.layers import Dense, Lambda, Input, Flatten, BatchNormalization\n",
    "from keras.models import load_model, Model, model_from_json\n",
    "from keras.optimizers import Adam, RMSprop\n",
    "from keras.preprocessing import image\n",
    "from keras import backend as K\n",
    "from matplotlib import pyplot as plt\n",
    "\n",
    "from PIL import Image"
   ]
  },
  {
   "cell_type": "code",
   "execution_count": 80,
   "metadata": {
    "scrolled": true
   },
   "outputs": [],
   "source": [
    "INPUTS_FNAME   = \"lfw_datasets_and_models.zip\"\n",
    "\n",
    "PATH_INPUTS_FNAME     = \"./lfw_datasets_and_models.zip\" \n",
    "PATH_INPUTS           = \"./test/CuratedSet\"\n",
    "\n",
    "PATH_DATASET_BASE     = PATH_INPUTS + \"/datasets\"\n",
    "\n",
    "PATH_DATASET_BASE_MASKED   = PATH_DATASET_BASE + \"/masked\"\n",
    "PATH_DATASET_BASE_UNMASKED = PATH_DATASET_BASE + \"/unmasked\"\n",
    "\n",
    "PATH_DATASET_MASKED_TRAIN = PATH_DATASET_BASE_MASKED + \"/train/\"\n",
    "PATH_DATASET_MASKED_VAL   = PATH_DATASET_BASE_MASKED + \"/validation/\"\n",
    "PATH_DATASET_MASKED_TEST  = PATH_DATASET_BASE_MASKED + \"/test/\"\n",
    "\n",
    "PATH_DATASET_UNMASKED_TRAIN = PATH_DATASET_BASE_UNMASKED + \"/train/\"\n",
    "PATH_DATASET_UNMASKED_VAL   = PATH_DATASET_BASE_UNMASKED + \"/validation/\"\n",
    "PATH_DATASET_UNMASKED_TEST  = PATH_DATASET_BASE_UNMASKED + \"/test/\"\n",
    "\n",
    "PATH_TRAIN_RESNET = PATH_INPUTS + '/models/resnet/retrained/'\n",
    "PATH_TRAIN_FACENET = PATH_INPUTS + '/models/facenet/retrained/'\n",
    "PATH_TRAIN_DATASET = PATH_INPUTS + '/training'\n",
    "PATH_TRAIN_ANCHOR_DATASET = PATH_TRAIN_DATASET + '/anchor/'\n",
    "PATH_TRAIN_POSITIVE_DATASET = PATH_TRAIN_DATASET + '/positive/'\n",
    "\n",
    "PATH_FACENET_KERAS_H5 = PATH_INPUTS + \"/models/facenet/pretrained/model/facenet_keras.h5\"\n",
    "\n",
    "TRIPLET_LOSS_MARGIN = 1\n",
    "\n",
    "IMAGE_INPUT_SIZE = 160"
   ]
  },
  {
   "cell_type": "code",
   "execution_count": 81,
   "metadata": {
    "scrolled": true
   },
   "outputs": [],
   "source": [
    "def extract_zipfile(filename: str, extract_dirname: str, extract_path: str):\n",
    "    # Extract the inputs from the zip file.\n",
    "    if (not os.path.isdir(extract_dirname)):\n",
    "        print(\"[INFO] Extracting from '{}' to '../'...\".format(filename), end=\" \")\n",
    "        with zipfile.ZipFile(filename, \"r\") as zip_ref:\n",
    "            zip_ref.extractall(extract_path)\n",
    "        print(\"DONE.\")\n",
    "    else:\n",
    "        print(\"[INFO] Directory '{}' exists.\".format(extract_dirname))\n",
    "\n",
    "#extract_zipfile(PATH_INPUTS_FNAME, PATH_INPUTS, \"./\")"
   ]
  },
  {
   "cell_type": "code",
   "execution_count": 82,
   "metadata": {
    "scrolled": true
   },
   "outputs": [],
   "source": [
    "# [Retraing]\n",
    "def triplet_loss(inputs, dist='euclidean', margin='maxplus'):\n",
    "    anchor, positive, negative = inputs\n",
    "    positive_distance = K.square(anchor - positive)\n",
    "    negative_distance = K.square(anchor - negative)\n",
    "    if dist == 'euclidean':\n",
    "        positive_distance = K.sqrt(K.sum(positive_distance, axis=-1, keepdims=True))\n",
    "        negative_distance = K.sqrt(K.sum(negative_distance, axis=-1, keepdims=True))\n",
    "    elif dist == 'sqeuclidean':\n",
    "        positive_distance = K.sum(positive_distance, axis=-1, keepdims=True)\n",
    "        negative_distance = K.sum(negative_distance, axis=-1, keepdims=True)\n",
    "    loss = positive_distance - negative_distance\n",
    "    if margin == 'maxplus':\n",
    "        loss = K.maximum(0.0, TRIPLET_LOSS_MARGIN + loss)\n",
    "    elif margin == 'softplus':\n",
    "        loss = K.log(1 + K.exp(loss))\n",
    "        \n",
    "    returned_loss = K.mean(loss)\n",
    "    return returned_loss"
   ]
  },
  {
   "cell_type": "code",
   "execution_count": 83,
   "metadata": {
    "scrolled": true
   },
   "outputs": [],
   "source": [
    "# [Retraining]\n",
    "# Used when compiling the siamese network\n",
    "def identity_loss(y_true, y_pred):\n",
    "    return K.mean(y_pred - 0 * y_true)  # This is actually just returning y_pred bcs\n",
    "                                        # K.mean has already been called in the triplet_loss function"
   ]
  },
  {
   "cell_type": "code",
   "execution_count": 84,
   "metadata": {
    "scrolled": false
   },
   "outputs": [],
   "source": [
    "# [Retraining]\n",
    "def get_siamese_from_facenet():\n",
    "    model = load_model(PATH_FACENET_KERAS_H5)\n",
    "    print(len(model.layers))\n",
    "    model.layers.pop()\n",
    "    model.layers.pop()\n",
    "    #model.summary()\n",
    "\n",
    "    layers_count = len(model.layers)\n",
    "    for i in range(layers_count - 10):\n",
    "        layer = model.layers[i]\n",
    "        if i < layers_count//2:\n",
    "            layer.trainable = False # Freeze first half of layers.\n",
    "        elif layer.trainable and not layer.name.endswith(\"BatchNorm\"):\n",
    "            layer.trainable = False # Leave all BatchNorm layers to retrain.\n",
    "\n",
    "    last_layer = model.layers[layers_count - 1]\n",
    "    assert last_layer.trainable == True # Ensure last layer to retrain.\n",
    "\n",
    "    # Define the siamese facenet network\n",
    "    image_shape = (IMAGE_INPUT_SIZE, IMAGE_INPUT_SIZE, 3)\n",
    "\n",
    "    model_out = last_layer.output\n",
    "    model_out = Dense(128, activation = 'relu',  name = 'model_out')(model_out)\n",
    "    model_out = BatchNormalization(axis = 1, epsilon=0.00001, name = 'BatchNorm_last')(model_out)\n",
    "    model_out = Lambda(lambda  x: K.l2_normalize(x, axis = 1))(model_out)\n",
    "\n",
    "    new_model = Model(inputs=model.input, outputs=model_out)\n",
    "\n",
    "    anchor_input = Input(shape=image_shape, name ='anchor_input')\n",
    "    pos_input = Input(shape=image_shape, name ='pos_input')\n",
    "    neg_input = Input(shape=image_shape, name ='neg_input')\n",
    "\n",
    "    encoding_anchor = new_model(anchor_input)\n",
    "    encoding_pos = new_model(pos_input)\n",
    "    encoding_neg = new_model(neg_input)\n",
    "\n",
    "    loss = Lambda(triplet_loss)([encoding_anchor, encoding_pos, encoding_neg])\n",
    "\n",
    "    siamese_facenet = Model(inputs  = [anchor_input, pos_input, neg_input], outputs = loss)\n",
    "    siamese_facenet.compile(optimizer = Adam(lr = .1, clipnorm = 1.), loss = identity_loss)\n",
    "    siamese_facenet.summary()\n",
    "    return new_model, siamese_facenet"
   ]
  },
  {
   "cell_type": "code",
   "execution_count": 85,
   "metadata": {},
   "outputs": [],
   "source": [
    "IMAGE_TARGET_SHAPE = (IMAGE_INPUT_SIZE, IMAGE_INPUT_SIZE)\n",
    "\n",
    "def extract_face(image_path : str):\n",
    "    # load image from file\n",
    "    img = Image.open(image_path)\n",
    "    img = img.convert('RGB')\n",
    "    img = img.resize(IMAGE_TARGET_SHAPE)\n",
    "    img_array = np.asarray(img)\n",
    "    img_array = img_array.astype('float32')\n",
    "    # Standardization\n",
    "    mean, std = img_array.mean(), img_array.std()\n",
    "    img_array = (img_array - mean) / std\n",
    "    # Expand 3 dimension to 4 dimension.\n",
    "    img_array = np.expand_dims(img_array, axis=0)\n",
    "    return img_array\n",
    "\n",
    "def create_triplets(images_path :str, num_triplets_required = 50000):\n",
    "    images_subdir = []\n",
    "    for subdir in os.listdir(images_path):\n",
    "        if len(images_subdir) == num_triplets_required:\n",
    "            break\n",
    "        filenames = os.listdir(images_path + subdir)\n",
    "        \n",
    "        # Skip directory with single image.\n",
    "        if len(filenames) < 2:\n",
    "            continue\n",
    "        images_subdir.append(subdir)\n",
    "\n",
    "    print(\"Total pairs found : \" + str(len(images_subdir)))\n",
    "    image_input_shape = (len(images_subdir), IMAGE_INPUT_SIZE, IMAGE_INPUT_SIZE, 3)\n",
    "    \n",
    "    anchor_imgs = np.empty(image_input_shape)\n",
    "    pos_imgs = np.empty(image_input_shape)\n",
    "    neg_imgs = np.empty(image_input_shape)\n",
    "    for idx, subdir in enumerate(images_subdir):\n",
    "        filenames = os.listdir(images_path + subdir)\n",
    "        assert len(filenames) > 1\n",
    "        image_path = images_path + subdir + \"/\" + filenames[0]\n",
    "        anchor_imgs[idx] = extract_face(image_path)\n",
    "\n",
    "        image_path = images_path + subdir + \"/\" + filenames[1]\n",
    "        pos_imgs[idx] = extract_face(image_path)\n",
    "\n",
    "    # Rotate pos_imgs by 1 to make them negative for other faces.\n",
    "    neg_imgs = np.roll(pos_imgs, 1, axis = 0)\n",
    "    return (anchor_imgs, pos_imgs, neg_imgs)"
   ]
  },
  {
   "cell_type": "code",
   "execution_count": 86,
   "metadata": {},
   "outputs": [],
   "source": [
    "def create_unmasked_and_masked_triplets(unmasked_images_path :str, masked_images_path :str, \n",
    "                                        num_triplets_required = 50000):\n",
    "\n",
    "    masked_dict = {}\n",
    "    unmasked_path = []\n",
    "    \n",
    "    # Create pairs (subdir, filename) for unmasked images.\n",
    "    for subdir in os.listdir(unmasked_images_path):\n",
    "        filenames = os.listdir(unmasked_images_path + subdir)\n",
    "        filename = unmasked_images_path + subdir + \"/\" + filenames[0]\n",
    "        unmasked_path.append((subdir, filename))\n",
    "\n",
    "    # Create dictionary {subdir : filename} for maksed images to join with unmasked.\n",
    "    for subdir in os.listdir(masked_images_path):\n",
    "        filenames = os.listdir(masked_images_path + subdir)\n",
    "        filename = masked_images_path + subdir + \"/\" + filenames[0]\n",
    "        masked_dict[subdir] = filename\n",
    "\n",
    "    image_pairs = []\n",
    "    for i in range(len(unmasked_path)):\n",
    "        if len(image_pairs) == num_triplets_required:\n",
    "            break\n",
    "        anchor_name, anchor_path = unmasked_path[i]\n",
    "        if anchor_name not in masked_dict:\n",
    "            continue\n",
    "        pos_path = masked_dict[anchor_name]\n",
    "        image_pairs.append((anchor_path, pos_path))\n",
    "        \n",
    "    print(\"Total pairs found : \" + str(len(image_pairs)))\n",
    "    image_input_shape = (len(image_pairs), IMAGE_INPUT_SIZE, IMAGE_INPUT_SIZE, 3)\n",
    "    \n",
    "    anchor_imgs = np.empty(image_input_shape)\n",
    "    pos_imgs = np.empty(image_input_shape)\n",
    "    neg_imgs = np.empty(image_input_shape)\n",
    "    for idx, image_pair in enumerate(image_pairs):\n",
    "        anchor_imgs[idx] = extract_face(image_pair[0])\n",
    "        pos_imgs[idx] = extract_face(image_pair[1])\n",
    "\n",
    "    # Rotate pos_imgs by 1 to make them negative for other faces.\n",
    "    neg_imgs = np.roll(pos_imgs, 1, axis = 0)\n",
    "    return (anchor_imgs, pos_imgs, neg_imgs)"
   ]
  },
  {
   "cell_type": "code",
   "execution_count": 87,
   "metadata": {},
   "outputs": [
    {
     "name": "stdout",
     "output_type": "stream",
     "text": [
      "Total pairs found : 60\n",
      "(60, 160, 160, 3)\n",
      "(60, 160, 160, 3)\n",
      "(60, 160, 160, 3)\n",
      "[-1.87814081 -1.89376354 -1.89376354]\n",
      "[-1.87814081 -1.89376354 -1.89376354]\n"
     ]
    }
   ],
   "source": [
    "# anchor1, pos1, neg1 = create_triplets(PATH_DATASET_UNMASKED_TRAIN)\n",
    "# anchor2, pos2, neg2 = create_triplets(PATH_DATASET_MASKED_TRAIN)\n",
    "# anchor3, pos3, neg3 = create_unmasked_and_masked_triplets(PATH_DATASET_UNMASKED_TRAIN, PATH_DATASET_MASKED_TRAIN)\n",
    "anchor_images, pos_images, neg_images = create_unmasked_and_masked_triplets(PATH_DATASET_UNMASKED_TRAIN, PATH_DATASET_MASKED_TRAIN)\n",
    "\n",
    "# anchor_images = np.concatenate((anchor1, anchor2, anchor3), axis = 0)\n",
    "# pos_images = np.concatenate((pos1, pos2, pos3), axis = 0)\n",
    "# neg_images = np.concatenate((neg1, neg2, neg3), axis = 0)\n",
    "\n",
    "print(anchor_images.shape)\n",
    "print(pos_images.shape)\n",
    "print(neg_images.shape)\n",
    "\n",
    "# Ensure neg_images are rotated version of pos_images\n",
    "print(pos_images[0][0][0])\n",
    "print(neg_images[1][0][0])"
   ]
  },
  {
   "cell_type": "code",
   "execution_count": 88,
   "metadata": {},
   "outputs": [
    {
     "name": "stdout",
     "output_type": "stream",
     "text": [
      "60\n",
      "426\n",
      "__________________________________________________________________________________________________\n",
      "Layer (type)                    Output Shape         Param #     Connected to                     \n",
      "==================================================================================================\n",
      "anchor_input (InputLayer)       (None, 160, 160, 3)  0                                            \n",
      "__________________________________________________________________________________________________\n",
      "pos_input (InputLayer)          (None, 160, 160, 3)  0                                            \n",
      "__________________________________________________________________________________________________\n",
      "neg_input (InputLayer)          (None, 160, 160, 3)  0                                            \n",
      "__________________________________________________________________________________________________\n",
      "model_22 (Model)                (None, 128)          22808400    anchor_input[0][0]               \n",
      "                                                                 pos_input[0][0]                  \n",
      "                                                                 neg_input[0][0]                  \n",
      "__________________________________________________________________________________________________\n",
      "lambda_18 (Lambda)              ()                   0           model_22[1][0]                   \n",
      "                                                                 model_22[2][0]                   \n",
      "                                                                 model_22[3][0]                   \n",
      "==================================================================================================\n",
      "Total params: 22,808,400\n",
      "Trainable params: 1,039,744\n",
      "Non-trainable params: 21,768,656\n",
      "__________________________________________________________________________________________________\n"
     ]
    }
   ],
   "source": [
    "import warnings\n",
    "warnings.filterwarnings('ignore')\n",
    "\n",
    "training_loss = []\n",
    "z = np.zeros(len(anchor_images))\n",
    "print(len(z))\n",
    "\n",
    "new_model, siamese_model = get_siamese_from_facenet()"
   ]
  },
  {
   "cell_type": "code",
   "execution_count": 89,
   "metadata": {
    "scrolled": true
   },
   "outputs": [
    {
     "name": "stdout",
     "output_type": "stream",
     "text": [
      "Epoch 1/1\n",
      "60/60 [==============================] - 124s 2s/step - loss: 0.8738\n",
      "Epoch 1/1\n",
      "60/60 [==============================] - 2s 32ms/step - loss: 0.6727\n",
      "Epoch 1/1\n",
      "60/60 [==============================] - 2s 30ms/step - loss: 0.6366\n",
      "Epoch 1/1\n",
      "60/60 [==============================] - 2s 32ms/step - loss: 0.4911\n",
      "Epoch 1/1\n",
      "60/60 [==============================] - 2s 31ms/step - loss: 0.3995\n",
      "Epoch 1/1\n",
      "60/60 [==============================] - 2s 31ms/step - loss: 0.4064\n",
      "Epoch 1/1\n",
      "60/60 [==============================] - 2s 31ms/step - loss: 0.2945\n",
      "Epoch 1/1\n",
      "60/60 [==============================] - 2s 31ms/step - loss: 0.2025\n",
      "Epoch 1/1\n",
      "60/60 [==============================] - 2s 31ms/step - loss: 0.2392\n",
      "Epoch 1/1\n",
      "60/60 [==============================] - 2s 32ms/step - loss: 0.1781\n",
      "Epoch 1/1\n",
      "60/60 [==============================] - 2s 31ms/step - loss: 0.2210\n",
      "Epoch 1/1\n",
      "60/60 [==============================] - 2s 34ms/step - loss: 0.2054\n",
      "Epoch 1/1\n",
      "60/60 [==============================] - 2s 32ms/step - loss: 0.1892\n",
      "Epoch 1/1\n",
      "60/60 [==============================] - 2s 32ms/step - loss: 0.1875\n",
      "Epoch 1/1\n",
      "60/60 [==============================] - 2s 35ms/step - loss: 0.1691\n",
      "Epoch 1/1\n",
      "60/60 [==============================] - 2s 32ms/step - loss: 0.1387\n",
      "Epoch 1/1\n",
      "60/60 [==============================] - 2s 31ms/step - loss: 0.2214\n",
      "Epoch 1/1\n",
      "60/60 [==============================] - 2s 32ms/step - loss: 0.1773\n",
      "Epoch 1/1\n",
      "60/60 [==============================] - 2s 31ms/step - loss: 0.2007\n",
      "Epoch 1/1\n",
      "60/60 [==============================] - 2s 32ms/step - loss: 0.1502\n",
      "Epoch 1/1\n",
      "60/60 [==============================] - 2s 31ms/step - loss: 0.2440\n",
      "Epoch 1/1\n",
      "60/60 [==============================] - 2s 31ms/step - loss: 0.1481\n",
      "Epoch 1/1\n",
      "60/60 [==============================] - 2s 34ms/step - loss: 0.1383\n",
      "Epoch 1/1\n",
      "60/60 [==============================] - 2s 32ms/step - loss: 0.1502\n",
      "Epoch 1/1\n",
      "60/60 [==============================] - 2s 34ms/step - loss: 0.1598\n",
      "Epoch 1/1\n",
      "60/60 [==============================] - 2s 35ms/step - loss: 0.1569\n",
      "Epoch 1/1\n",
      "60/60 [==============================] - 2s 37ms/step - loss: 0.1770\n",
      "Epoch 1/1\n",
      "60/60 [==============================] - 2s 32ms/step - loss: 0.1671\n",
      "Epoch 1/1\n",
      "60/60 [==============================] - 2s 30ms/step - loss: 0.1052\n",
      "Epoch 1/1\n",
      "60/60 [==============================] - 2s 30ms/step - loss: 0.1740\n",
      "Epoch 1/1\n",
      "60/60 [==============================] - 2s 33ms/step - loss: 0.1005\n",
      "Epoch 1/1\n",
      "60/60 [==============================] - 2s 30ms/step - loss: 0.1419\n",
      "Epoch 1/1\n",
      "60/60 [==============================] - 2s 31ms/step - loss: 0.1086\n",
      "Epoch 1/1\n",
      "60/60 [==============================] - 2s 30ms/step - loss: 0.0883\n",
      "Epoch 1/1\n",
      "60/60 [==============================] - 2s 31ms/step - loss: 0.1062\n",
      "Epoch 1/1\n",
      "60/60 [==============================] - 2s 32ms/step - loss: 0.1326\n",
      "Epoch 1/1\n",
      "60/60 [==============================] - 3s 51ms/step - loss: 0.0968\n",
      "Epoch 1/1\n",
      "60/60 [==============================] - 3s 44ms/step - loss: 0.1219\n",
      "Epoch 1/1\n",
      "60/60 [==============================] - 2s 30ms/step - loss: 0.1675\n",
      "Epoch 1/1\n",
      "60/60 [==============================] - 2s 32ms/step - loss: 0.1335\n",
      "Epoch 1/1\n",
      "60/60 [==============================] - 2s 31ms/step - loss: 0.1505\n",
      "Epoch 1/1\n",
      "60/60 [==============================] - 2s 30ms/step - loss: 0.1229\n",
      "Epoch 1/1\n",
      "60/60 [==============================] - 2s 32ms/step - loss: 0.1491\n",
      "Epoch 1/1\n",
      "60/60 [==============================] - 2s 30ms/step - loss: 0.0892\n",
      "Epoch 1/1\n",
      "60/60 [==============================] - 2s 30ms/step - loss: 0.1617\n",
      "Epoch 1/1\n",
      "60/60 [==============================] - 2s 34ms/step - loss: 0.1091\n",
      "Epoch 1/1\n",
      "60/60 [==============================] - 2s 31ms/step - loss: 0.1022\n",
      "Epoch 1/1\n",
      "60/60 [==============================] - 2s 32ms/step - loss: 0.1063\n",
      "Epoch 1/1\n",
      "60/60 [==============================] - 2s 30ms/step - loss: 0.1343\n",
      "Epoch 1/1\n",
      "60/60 [==============================] - 2s 30ms/step - loss: 0.1010\n",
      "Epoch 1/1\n",
      "60/60 [==============================] - 2s 32ms/step - loss: 0.1386\n",
      "Epoch 1/1\n",
      "60/60 [==============================] - 2s 30ms/step - loss: 0.0743\n",
      "Epoch 1/1\n",
      "60/60 [==============================] - 2s 32ms/step - loss: 0.1322\n",
      "Epoch 1/1\n",
      "60/60 [==============================] - 2s 32ms/step - loss: 0.1633\n",
      "Epoch 1/1\n",
      "60/60 [==============================] - 2s 30ms/step - loss: 0.1222\n",
      "Epoch 1/1\n",
      "60/60 [==============================] - 2s 30ms/step - loss: 0.1280\n",
      "Epoch 1/1\n",
      "60/60 [==============================] - 2s 31ms/step - loss: 0.0919\n",
      "Epoch 1/1\n",
      "60/60 [==============================] - 2s 31ms/step - loss: 0.1112\n",
      "Epoch 1/1\n",
      "60/60 [==============================] - 2s 32ms/step - loss: 0.1368\n",
      "Epoch 1/1\n",
      "60/60 [==============================] - 2s 31ms/step - loss: 0.1210\n",
      "Epoch 1/1\n",
      "60/60 [==============================] - 2s 31ms/step - loss: 0.1112\n",
      "Epoch 1/1\n",
      "60/60 [==============================] - 2s 34ms/step - loss: 0.0889\n",
      "Epoch 1/1\n",
      "60/60 [==============================] - 2s 30ms/step - loss: 0.1176\n",
      "Epoch 1/1\n",
      "60/60 [==============================] - 2s 30ms/step - loss: 0.1094\n",
      "Epoch 1/1\n",
      "60/60 [==============================] - 2s 32ms/step - loss: 0.1285\n",
      "Epoch 1/1\n",
      "60/60 [==============================] - 2s 31ms/step - loss: 0.0757\n",
      "Epoch 1/1\n",
      "60/60 [==============================] - 2s 32ms/step - loss: 0.0597\n",
      "Epoch 1/1\n",
      "60/60 [==============================] - 2s 31ms/step - loss: 0.1099\n",
      "Epoch 1/1\n",
      "60/60 [==============================] - 2s 32ms/step - loss: 0.0632\n",
      "Epoch 1/1\n",
      "60/60 [==============================] - 2s 34ms/step - loss: 0.1141\n",
      "Epoch 1/1\n",
      "60/60 [==============================] - 2s 34ms/step - loss: 0.0678\n",
      "Epoch 1/1\n",
      "60/60 [==============================] - 2s 34ms/step - loss: 0.0819\n",
      "Epoch 1/1\n",
      "60/60 [==============================] - 2s 33ms/step - loss: 0.0707\n",
      "Epoch 1/1\n",
      "60/60 [==============================] - 2s 38ms/step - loss: 0.0800\n",
      "Epoch 1/1\n",
      "60/60 [==============================] - 2s 34ms/step - loss: 0.0758\n",
      "Epoch 1/1\n",
      "60/60 [==============================] - 2s 30ms/step - loss: 0.0961\n",
      "Epoch 1/1\n",
      "60/60 [==============================] - 2s 33ms/step - loss: 0.1087\n",
      "Epoch 1/1\n",
      "60/60 [==============================] - 2s 31ms/step - loss: 0.0755\n",
      "Epoch 1/1\n",
      "60/60 [==============================] - 2s 30ms/step - loss: 0.1204\n",
      "Epoch 1/1\n",
      "60/60 [==============================] - 2s 32ms/step - loss: 0.0966\n",
      "Epoch 1/1\n",
      "60/60 [==============================] - 2s 31ms/step - loss: 0.0582\n",
      "Epoch 1/1\n",
      "60/60 [==============================] - 2s 30ms/step - loss: 0.0862\n",
      "Epoch 1/1\n",
      "60/60 [==============================] - 2s 32ms/step - loss: 0.0950\n",
      "Epoch 1/1\n",
      "60/60 [==============================] - 2s 30ms/step - loss: 0.0936\n",
      "Epoch 1/1\n",
      "60/60 [==============================] - 2s 30ms/step - loss: 0.0927\n",
      "Epoch 1/1\n",
      "60/60 [==============================] - 2s 32ms/step - loss: 0.1128\n",
      "Epoch 1/1\n",
      "60/60 [==============================] - 2s 30ms/step - loss: 0.0977\n",
      "Epoch 1/1\n",
      "60/60 [==============================] - 2s 32ms/step - loss: 0.0679\n",
      "Epoch 1/1\n",
      "60/60 [==============================] - 2s 31ms/step - loss: 0.1052\n",
      "Epoch 1/1\n",
      "60/60 [==============================] - 2s 30ms/step - loss: 0.0772\n",
      "Epoch 1/1\n",
      "60/60 [==============================] - 2s 31ms/step - loss: 0.1076\n",
      "Epoch 1/1\n",
      "60/60 [==============================] - 2s 31ms/step - loss: 0.0797\n",
      "Epoch 1/1\n",
      "60/60 [==============================] - 2s 30ms/step - loss: 0.0958\n",
      "Epoch 1/1\n",
      "60/60 [==============================] - 2s 33ms/step - loss: 0.0533\n",
      "Epoch 1/1\n",
      "60/60 [==============================] - 2s 30ms/step - loss: 0.1061\n",
      "Epoch 1/1\n",
      "60/60 [==============================] - 2s 31ms/step - loss: 0.0672\n",
      "Epoch 1/1\n",
      "60/60 [==============================] - 2s 30ms/step - loss: 0.0900\n",
      "Epoch 1/1\n",
      "60/60 [==============================] - 2s 30ms/step - loss: 0.0978\n",
      "Epoch 1/1\n",
      "60/60 [==============================] - 2s 32ms/step - loss: 0.1185\n",
      "Epoch 1/1\n",
      "60/60 [==============================] - 2s 30ms/step - loss: 0.0872\n"
     ]
    }
   ],
   "source": [
    "EPOCHS_COUNT = 100\n",
    "BATCH_SIZE = 32\n",
    "\n",
    "for epoch in range(1, EPOCHS_COUNT + 1):\n",
    "    siamese_model.fit(x=[anchor_images, pos_images, neg_images], \n",
    "                    y=z, \n",
    "                    batch_size=BATCH_SIZE, \n",
    "                    epochs=1, \n",
    "                    verbose=1, \n",
    "                    callbacks=None, \n",
    "                    validation_split=0.0, \n",
    "                    validation_data=None, \n",
    "                    shuffle=True, \n",
    "                    class_weight=None, \n",
    "                    sample_weight=None, \n",
    "                    initial_epoch=0, \n",
    "                    steps_per_epoch=None, \n",
    "                    validation_steps=None)\n",
    "    training_loss.append(siamese_model.history.history['loss'])\n",
    "    neg_images = np.roll(neg_images, 1, axis = 0)\n",
    "    if epoch + 1 == len(neg_images):\n",
    "        neg_images = np.roll(neg_images, 1, axis = 0)"
   ]
  },
  {
   "cell_type": "code",
   "execution_count": 90,
   "metadata": {},
   "outputs": [
    {
     "data": {
      "text/plain": [
       "[<matplotlib.lines.Line2D at 0x7f8840550b00>]"
      ]
     },
     "execution_count": 90,
     "metadata": {},
     "output_type": "execute_result"
    },
    {
     "data": {
      "image/png": "[encoded data removed]",
      "text/plain": [
       "<Figure size 432x288 with 1 Axes>"
      ]
     },
     "metadata": {
      "needs_background": "light"
     },
     "output_type": "display_data"
    }
   ],
   "source": [
    "plt.figure()\n",
    "title = 'Triplet Loss with Learning Rate = 0.1'\n",
    "plt.title(title)\n",
    "plt.ylabel('Loss')\n",
    "plt.xlabel('Epoch')\n",
    "plt.plot(training_loss)"
   ]
  },
  {
   "cell_type": "code",
   "execution_count": 78,
   "metadata": {},
   "outputs": [
    {
     "data": {
      "text/plain": [
       "[<matplotlib.lines.Line2D at 0x7f8851769a90>]"
      ]
     },
     "execution_count": 78,
     "metadata": {},
     "output_type": "execute_result"
    },
    {
     "data": {
      "image/png": "[encoded data removed]",
      "text/plain": [
       "<Figure size 432x288 with 1 Axes>"
      ]
     },
     "metadata": {
      "needs_background": "light"
     },
     "output_type": "display_data"
    }
   ],
   "source": [
    "# plt.figure()\n",
    "# title = 'Triplet Loss with Learning Rate = 0.05'\n",
    "# plt.title(title)\n",
    "# plt.ylabel('Loss')\n",
    "# plt.xlabel('Epoch')\n",
    "# plt.plot(training_loss)"
   ]
  },
  {
   "cell_type": "code",
   "execution_count": 66,
   "metadata": {},
   "outputs": [
    {
     "data": {
      "text/plain": [
       "[<matplotlib.lines.Line2D at 0x7f8862903400>]"
      ]
     },
     "execution_count": 66,
     "metadata": {},
     "output_type": "execute_result"
    },
    {
     "data": {
      "image/png": "[encoded data removed]",
      "text/plain": [
       "<Figure size 432x288 with 1 Axes>"
      ]
     },
     "metadata": {
      "needs_background": "light"
     },
     "output_type": "display_data"
    }
   ],
   "source": [
    "# plt.figure()\n",
    "# title = 'Triplet Loss with Learning Rate = 0.01'\n",
    "# plt.title(title)\n",
    "# plt.ylabel('Loss')\n",
    "# plt.xlabel('Epoch')\n",
    "# plt.plot(training_loss)"
   ]
  },
  {
   "cell_type": "code",
   "execution_count": 54,
   "metadata": {},
   "outputs": [
    {
     "data": {
      "text/plain": [
       "[<matplotlib.lines.Line2D at 0x7f8906cc4b00>]"
      ]
     },
     "execution_count": 54,
     "metadata": {},
     "output_type": "execute_result"
    },
    {
     "data": {
      "image/png": "[encoded data removed]",
      "text/plain": [
       "<Figure size 432x288 with 1 Axes>"
      ]
     },
     "metadata": {
      "needs_background": "light"
     },
     "output_type": "display_data"
    }
   ],
   "source": [
    "# plt.figure()\n",
    "# title = 'Triplet Loss with Margin = 1.5'\n",
    "# plt.title(title)\n",
    "# plt.ylabel('Loss')\n",
    "# plt.xlabel('Epoch')\n",
    "# plt.plot(training_loss)"
   ]
  },
  {
   "cell_type": "code",
   "execution_count": 42,
   "metadata": {},
   "outputs": [
    {
     "data": {
      "text/plain": [
       "[<matplotlib.lines.Line2D at 0x7f890cd47f60>]"
      ]
     },
     "execution_count": 42,
     "metadata": {},
     "output_type": "execute_result"
    },
    {
     "data": {
      "image/png": "[encoded data removed]",
      "text/plain": [
       "<Figure size 432x288 with 1 Axes>"
      ]
     },
     "metadata": {
      "needs_background": "light"
     },
     "output_type": "display_data"
    }
   ],
   "source": [
    "# plt.figure()\n",
    "# title = 'Triplet Loss with Margin = 1'\n",
    "# plt.title(title)\n",
    "# plt.ylabel('Loss')\n",
    "# plt.xlabel('Epoch')\n",
    "# plt.plot(training_loss)"
   ]
  },
  {
   "cell_type": "code",
   "execution_count": 30,
   "metadata": {
    "scrolled": true
   },
   "outputs": [
    {
     "data": {
      "text/plain": [
       "[<matplotlib.lines.Line2D at 0x7f8934e8b128>]"
      ]
     },
     "execution_count": 30,
     "metadata": {},
     "output_type": "execute_result"
    },
    {
     "data": {
      "image/png": "[encoded data removed]",
      "text/plain": [
       "<Figure size 432x288 with 1 Axes>"
      ]
     },
     "metadata": {
      "needs_background": "light"
     },
     "output_type": "display_data"
    }
   ],
   "source": [
    "# plt.figure()\n",
    "# title = 'Triplet Loss with Margin = 2'\n",
    "# plt.title(title)\n",
    "# plt.ylabel('Loss')\n",
    "# plt.xlabel('Epoch')\n",
    "# plt.plot(training_loss)"
   ]
  },
  {
   "cell_type": "code",
   "execution_count": null,
   "metadata": {},
   "outputs": [],
   "source": []
  }
 ],
 "metadata": {
  "kernelspec": {
   "display_name": "Python 3",
   "language": "python",
   "name": "python3"
  },
  "language_info": {
   "codemirror_mode": {
    "name": "ipython",
    "version": 3
   },
   "file_extension": ".py",
   "mimetype": "text/x-python",
   "name": "python",
   "nbconvert_exporter": "python",
   "pygments_lexer": "ipython3",
   "version": "3.6.13"
  }
 },
 "nbformat": 4,
 "nbformat_minor": 4
}
